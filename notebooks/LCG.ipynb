{
 "cells": [
  {
   "cell_type": "markdown",
   "id": "b0437386-9e46-405f-a7e3-90bad0b6b62c",
   "metadata": {
    "tags": []
   },
   "source": [
    "# **LCG Mini-Research — Statistical Validation of a Linear Congruential Generator**\n",
    "## **Author:** Boris Arutinov\n",
    "\n"
   ]
  },
  {
   "cell_type": "markdown",
   "id": "a9339677-93cf-491e-a65d-2e6c73691eca",
   "metadata": {},
   "source": [
    "## **Objective**:\n",
    "The objective of this report is to create an executable Python code for a random number generator (linear congruential generator), describe and analyze it, working in JupyterLab."
   ]
  },
  {
   "cell_type": "markdown",
   "id": "8a3bd47c-cae2-40a2-8050-7954fa692884",
   "metadata": {
    "jp-MarkdownHeadingCollapsed": true,
    "tags": []
   },
   "source": [
    "## **The structure of the report (sections):**\n",
    "### 1. **Introduction**:\n",
    "Explanation of what I am going to use to implement a Python code for a random number generator.\n",
    "### 2. **Program implementation**:\n",
    "Python code implementation in the Notebook with comments. \n",
    "### 3. **Data validation, visualization and analysis**:\n",
    "Confirming the correctness of the code, calculating basic statistical measures, and data visualization.\n",
    "### 4. **Conclusions**:\n",
    "How JupyterLab was used, lessons learned, and potential improvements.\n",
    "### 5. **References**:\n",
    "Listing resources I have used."
   ]
  },
  {
   "cell_type": "markdown",
   "id": "e1d9acc4-ae02-467e-8b9c-a1abfb8283ee",
   "metadata": {
    "tags": []
   },
   "source": [
    "## **1. Introduction**:\n",
    "I am going to use a linear congruential generator formula to write a solution to the task:\n",
    "\n",
    "\n",
    "\n",
    "\n",
    "The linear congruential generator formula allows us to get pseudorandom numbers from 0 to 1, as we \"normalise\" our value while calculating xi.\n",
    "\n",
    "In this formula, r0, m, and a are numbers that we need to choose in order to start the calculation; xi is the ith pseudorandom number in the sequence. Here we calculate the next value using previous calculations. It means that we can calculate our numbers recursively or dynamically. In my opinion, a dynamic approach is better in this case, as we might not face \"stack overflow\" issues (possible in a recursive approach), and the program might work faster overall.\n",
    "\n",
    "Now I am going program a function **generate_random_numbers()** using Python programming language. It takes 4 values as input values (r0, m, a, and n) and returns a list with **n** pseudorandom numbers.\n",
    "\n",
    "\n",
    "## **2. Program implementation**:"
   ]
  },
  {
   "cell_type": "code",
   "execution_count": 15,
   "id": "23df3b40-4fb4-41f1-8b3d-c5ba8df380d0",
   "metadata": {
    "tags": []
   },
   "outputs": [],
   "source": [
    "def generate_random_numbers(r0, m, a, n):\n",
    "    cond1 = 0 < r0 < m #a condition that needs to be fullfilled for the generator to work properly\n",
    "    cond2 = a > 0 #a condition that needs to be fullfilled for the generator to work properly\n",
    "    cond3 = m > 0 #a condition that needs to be fullfilled for the generator to work properly\n",
    "    \n",
    "    #checking if conditions are fullfilled\n",
    "    if not cond1:\n",
    "        return \"A mandatory condition 0 < r0 < m is not satisfied\"\n",
    "    if not cond2:\n",
    "        return \"A mandatory condition a > 0 is not satisfied\"\n",
    "    if not cond3:\n",
    "        return \"A mandatory condition m > 0 is not satisfied\"\n",
    "    xs = [] #a future list of n pseudorandom numbers\n",
    "    r1 = r0 #making calculation for the first pseudorandom number in the sequence\n",
    "    x0 = r1/m\n",
    "    xs.append(x0)\n",
    "    for i in range(n-1): #starting iterations to calculate values dynamically\n",
    "        r1 = (a * r1) % m #calculating r1\n",
    "        x = r1/m #calculating x\n",
    "        xs.append(x) #adding a calculated pseudorandom number to the list xs\n",
    "    return xs #returning a list of n pseudorandom numbers\n",
    "        "
   ]
  },
  {
   "cell_type": "code",
   "execution_count": 17,
   "id": "82baf192-085f-4ab4-9656-6e68d765ce0c",
   "metadata": {},
   "outputs": [
    {
     "name": "stdout",
     "output_type": "stream",
     "text": [
      "A list with 6 pseudorandom numbers, r0 = 2, m = 5, a = 3\n"
     ]
    }
   ],
   "source": [
    "\n",
    "r0 = 2\n",
    "m = 5\n",
    "a = 3\n",
    "n = 6\n",
    "print(f\"A list with {n} pseudorandom numbers, r0 = {r0}, m = {m}, a = {a}\")\n",
    "gen0 = generate_random_numbers(r0, m, a, n)\n"
   ]
  },
  {
   "cell_type": "markdown",
   "id": "893d3c8a-9ef0-49e8-8b2c-ee76f12b6e4b",
   "metadata": {
    "tags": []
   },
   "source": [
    "## **3. Data validation, visualization and analysis**:\n",
    "### **Data validation**\n",
    "I have used a function **generate_random_numbers()** to calculate **6** pseudorandom numbers with initial parameters **r0 = 2, m = 5, a = 3**.\n",
    "\n",
    "We can clearly see that we got a sequence [0.4, 0.2, 0.6, 0.8, 0.4, 0.2] with a **period 4** (after getting 4 different values the cycle repeats due to low m = 5)\n",
    "\n",
    "To check if everything is programmed well, I am going to show the process of calculation for first **4** numbers (once again, **r0 = 2, m = 5, a = 3**): \n",
    "\n",
    "##### 1. r0 = 2, m = 5, **x0 = r0/m = 2/5 = 0.4**.\n",
    "##### 2. r1 = (a * r0)modm = (3 * 2)mod5 = 1, m = 5, **x1 = r1/m = 1/5 = 0.2**.\n",
    "##### 3. r2 = (a * r1)modm = (3 * 1)mod5 = 3, m = 5, **x2 = r2/m = 3/5 = 0.6**.\n",
    "##### 4. r3 = (a * r2)modm = (3 * 3)mod5 = 4, m = 5, **x3 = r1/m = 4/5 = 0.8**.\n",
    "\n",
    "Manually calculated values correspond to expected values (from the program), therefore our program is **valid**. \n",
    "\n",
    "\n",
    "### **Statistical data analysis**\n",
    "\n",
    "I would like to create 2 more different sequences of pseudorandom values: \n",
    "1. The first one with **r0 = 2, m = 109, a = 30, n = 1000**. I have found these parameters myself. The reason for choosing them was the period length = 108 (it is easy to check by enumeration).\n",
    "2. The second one with **r0 = 3, m = 2^31–1, a = 16807, n = 1000**. I have taken these parameters from the lecture slides (Arena simulation package (historical generator)). For me, it is interesting to compare basic statistical measures of these 2 generators. Of course, I am going to compare them with the first generator too.\n",
    "\n",
    "At first, I wanted to calculate statistical values for n = 4, n = 108, and n = 1000, respectively, for generators 1, 2, and 3. However, I have decided to use **n = 1000** for **all** generators. In my opinion, this condition can demonstrate the quality of each generator more precisely.\n",
    "\n",
    "For each generator I am going to calculate **mean, median, variance, standard deviation, Pearson correlation coefficient between the pseudorandom numbers series and its shifted self, and period length**. \n",
    "\n",
    "For statistical calculations I am using **numpy** and **pandas**.\n",
    "\n",
    "Also I am going to visualize generated pseudorandom numbers as a histogram using **matplotlib.pyplot**.\n"
   ]
  },
  {
   "cell_type": "code",
   "execution_count": 20,
   "id": "beedbc1b-4b7f-461f-83a3-d82c2d98920f",
   "metadata": {},
   "outputs": [
    {
     "name": "stdout",
     "output_type": "stream",
     "text": [
      "The visualization of pseudorandom numbers generated by the first generator\n"
     ]
    },
    {
     "data": {
      "image/png": "[encoded data removed]",
      "text/plain": [
       "<Figure size 640x480 with 1 Axes>"
      ]
     },
     "metadata": {},
     "output_type": "display_data"
    }
   ],
   "source": [
    "import numpy as np\n",
    "import pandas as pd\n",
    "import matplotlib.pyplot as plt\n",
    "#Result for first \n",
    "\n",
    "def statistical_measures(nums):\n",
    "    gen0p = pd.Series(nums) #converting pseudorandom numbers list into pandas series to find a correlation coefficient\n",
    "    mean = np.mean(nums) #finding a mean value\n",
    "    median = np.median(nums) #finding a median value\n",
    "    variance = np.var(nums) #fi|nding a variance value\n",
    "    standard_deviation = np.std(nums) #finding a standard deviation value\n",
    "    corcoef = gen0p.autocorr(lag=1) #finding a Pearson correlation coefficient value, lag is a \"shift\" value\n",
    "    \n",
    "    periodlen = 1\n",
    "    #finding period length\n",
    "    while periodlen < len(nums):\n",
    "        if nums[periodlen] == nums[0]: break\n",
    "        periodlen += 1\n",
    "    \n",
    "    nl = '\\n'    \n",
    "    return f\"mean = {mean}, median = {median}, variance = {variance}, standard_deviation = {standard_deviation}, Pearson correlation coefficient between the pseudorandom numbers series   and its shifted self = {corcoef}, Length of period = {periodlen}\"\n",
    "\n",
    "\n",
    "gen0 = generate_random_numbers(2, 5, 3, 1000) #regenerating values for the first generator to get the length 1000\n",
    "plt.hist(gen0, bins = 100, rwidth=0.9, color='red') #visualization\n",
    "#statistical measures for the first generator\n",
    "print(\"The visualization of pseudorandom numbers generated by the first generator\")"
   ]
  },
  {
   "cell_type": "code",
   "execution_count": 22,
   "id": "b5f57328-7dcf-494e-a867-5895c58ebe35",
   "metadata": {},
   "outputs": [
    {
     "name": "stdout",
     "output_type": "stream",
     "text": [
      "The statistical measures for the first generator are: \n",
      " mean = 0.5, median = 0.5, variance = 0.05000000000000002, standard_deviation = 0.22360679774997902, Pearson correlation coefficient between the pseudorandom numbers series   and its shifted self = 0.0006012025979657781, Length of period = 4\n"
     ]
    }
   ],
   "source": [
    "print(\"The statistical measures for the first generator are:\", \"\\n\", statistical_measures(gen0))"
   ]
  },
  {
   "cell_type": "code",
   "execution_count": 24,
   "id": "7d2aefdf-a4ad-449d-aa8c-58862aefcc07",
   "metadata": {},
   "outputs": [
    {
     "name": "stdout",
     "output_type": "stream",
     "text": [
      "The visualization of pseudorandom numbers generated by the second generator\n"
     ]
    },
    {
     "data": {
      "image/png": "[encoded data removed]",
      "text/plain": [
       "<Figure size 640x480 with 1 Axes>"
      ]
     },
     "metadata": {},
     "output_type": "display_data"
    }
   ],
   "source": [
    "gen1 = generate_random_numbers(2, 109, 30, 1000) #regenerating values for the second generator\n",
    "plt.hist(gen1, bins = 100, rwidth=0.9, color='red') #visualization\n",
    "print(\"The visualization of pseudorandom numbers generated by the second generator\")"
   ]
  },
  {
   "cell_type": "code",
   "execution_count": 26,
   "id": "ff51f9e2-1711-46cf-b3c3-174dde6f0fc9",
   "metadata": {},
   "outputs": [
    {
     "name": "stdout",
     "output_type": "stream",
     "text": [
      "The statistical measures for the second generator are: \n",
      " mean = 0.5017981651376148, median = 0.5045871559633027, variance = 0.08161380220520158, standard_deviation = 0.2856812948115462, Pearson correlation coefficient between the pseudorandom numbers series   and its shifted self = 0.0226439586967197, Length of period = 108\n"
     ]
    }
   ],
   "source": [
    "print(\"The statistical measures for the second generator are:\", \"\\n\", statistical_measures(gen1))"
   ]
  },
  {
   "cell_type": "code",
   "execution_count": 28,
   "id": "3568fa97-25bf-493a-892d-e0fe5f5c6003",
   "metadata": {},
   "outputs": [
    {
     "name": "stdout",
     "output_type": "stream",
     "text": [
      "The visualization of pseudorandom numbers generated by the third generator\n"
     ]
    },
    {
     "data": {
      "image/png": "[encoded data removed]",
      "text/plain": [
       "<Figure size 640x480 with 1 Axes>"
      ]
     },
     "metadata": {},
     "output_type": "display_data"
    }
   ],
   "source": [
    "gen2 = generate_random_numbers(3, 2**31 - 1, 16807, 1000) #regenerating values for the second generator\n",
    "plt.hist(gen2, bins = 100, rwidth=0.9, color='red') #visualization\n",
    "print(\"The visualization of pseudorandom numbers generated by the third generator\")"
   ]
  },
  {
   "cell_type": "code",
   "execution_count": 30,
   "id": "795694c3-53a4-4ddb-a9f9-7ad04460208c",
   "metadata": {},
   "outputs": [
    {
     "name": "stdout",
     "output_type": "stream",
     "text": [
      "The statistical measures for the second generator are: \n",
      " mean = 0.48115445255774747, median = 0.4775789482414624, variance = 0.08248257459841715, standard_deviation = 0.28719779699436615, Pearson correlation coefficient between the pseudorandom numbers series   and its shifted self = -0.0016638991240699246, Length of period = 1000\n"
     ]
    }
   ],
   "source": [
    "print(\"The statistical measures for the second generator are:\", \"\\n\", statistical_measures(gen2))"
   ]
  },
  {
   "cell_type": "markdown",
   "id": "97b74256-95f5-4159-aa11-3739b58f2f0f",
   "metadata": {},
   "source": [
    "### **Now I am going to summarize all results and analyze them**:\n",
    "\n",
    "### **Generator 1**\n",
    "#### **Statistical measures**: \n",
    "\n",
    "##### **mean** = 0.5\n",
    "##### **median** = 0.5\n",
    "##### **variance** = 0.05000000000000002\n",
    "##### **standard_deviation** = 0.22360679774997902\n",
    "##### **Pearson correlation coefficient** = 0.0006012025979663352\n",
    "##### **Length of period** = 4\n",
    "\n",
    "\n",
    "### **Generator 2**\n",
    "#### **Statistical measures**: \n",
    "##### **mean** = 0.5017981651376148\n",
    "##### **median** = 0.5045871559633027\n",
    "##### **variance** = 0.08161380220520158\n",
    "##### **standard_deviation** = 0.2856812948115462\n",
    "##### **Pearson correlation coefficient** = 0.02264395869671971\n",
    "##### **Length of period** = 108\n",
    "\n",
    "### **Generator 3**\n",
    "#### **Statistical measures**: \n",
    "##### **mean** = 0.48115445255774747\n",
    "##### **median** = 0.4775789482414624\n",
    "##### **variance** = 0.08248257459841715\n",
    "##### **standard_deviation** = 0.28719779699436615\n",
    "##### **Pearson correlation coefficient** = -0.0016638991240699459\n",
    "##### **Length of period** = 1000 (actually, it is around 2 * 10^9, but the program shows 1000, as the sample size is 1000)"
   ]
  },
  {
   "cell_type": "markdown",
   "id": "15686b02-85ae-4c25-b83c-7964e1a7ce78",
   "metadata": {},
   "source": [
    "## **4. Conclusions**:\n",
    "Working with JupyterLab was a great experience. Even though I worked with it before, I still managed to learn many new things. I find JupyterLab a powerful tool to combine code with a programmer’s notes, as it provides users with a wide spectrum of possibilities like text formatting, LaTeX, etc. I used JupyterLab to create the whole report and Python code, using features mentioned above.\n",
    "\n",
    "Speaking about things I have learned, I have gained valuable knowledge working with Markdown Cells in Jupyter Notebook. Moreover, I took a chance to work with Python libraries “numpy”, “matplotlib”, and “pandas”.\n",
    "\n",
    "As for potential improvements to the code, there are various combinations of r0, a, and m that, after several calculations, make the generator repeat the same value infinitely. It would be great to handle these cases in the code, avoiding incorrectly working generators. Another thing that can be improved is a generator period length calculator. In some cases, the length of the period is higher than the length of the sample we are generating. In my code, we cannot estimate the real period length in such cases. This should be improved. As for data analysis improvement, more than 3 generators should be tested to make a comparison between them clearer and reasonable. Moreover, there are many other statistical measures that can be used for analysis.\n",
    "\n",
    "To sum up, I would like to repeat that this assignment was a great opportunity to get experience working with JupyterLab and conduct a small research project about pseudorandom number generation.\n",
    "\n"
   ]
  },
  {
   "cell_type": "markdown",
   "id": "de48f104-0e2b-4f05-860f-067fa99c4afd",
   "metadata": {},
   "source": [
    "## **5. References**:\n",
    "1. LaTeX's mathematical expressions https://www.overleaf.com/learn/latex/Mathematical_expressions.\n",
    "2. JupiterHub on RTU HPC platform https://hpc.rtu.lv/jupyterhub/?lang=en .\n",
    "3. Convert JupiterNotebook to pdf https://www.vertopal.com/en/convert/ipynb-to-pdf.\n",
    "4. Jupiternotebook Markdown Cells https://jupyter-notebook.readthedocs.io/en/stable/examples/Notebook/Working%20With%20Markdown%20Cells.html.5/ \n",
    "5. Statistical measures from the numpy library https://numpy.org/doc/2.1/reference/routines.statistics.html.\n",
    "6. Pearson correlation coefficient from the pandas library https://pandas.pydata.org/docs/reference/api/pandas.Series.autocorr.html.\n",
    "7. Histograms from the matplotlib library https://matplotlib.org/stable/api/_as_gen/matplotlib.pyplot.hist.html."
   ]
  }
 ],
 "metadata": {
  "kernelspec": {
   "display_name": "Python 3 (ipykernel)",
   "language": "python",
   "name": "python3"
  },
  "language_info": {
   "codemirror_mode": {
    "name": "ipython",
    "version": 3
   },
   "file_extension": ".py",
   "mimetype": "text/x-python",
   "name": "python",
   "nbconvert_exporter": "python",
   "pygments_lexer": "ipython3",
   "version": "3.12.7"
  }
 },
 "nbformat": 4,
 "nbformat_minor": 5
}
